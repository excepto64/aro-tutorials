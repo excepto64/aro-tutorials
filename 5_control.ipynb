{
 "cells": [
  {
   "cell_type": "markdown",
   "metadata": {},
   "source": [
    "# Tutorial 5: Control Design\n",
    "Welcome to Tutorial 5, where we will be looking at controller design. The tutorial will be focusing on PID control, you will implement and tune a PID controller for a one DOF system."
   ]
  },
  {
   "cell_type": "markdown",
   "metadata": {},
   "source": [
    "## Import Packages"
   ]
  },
  {
   "cell_type": "code",
   "execution_count": 1,
   "metadata": {},
   "outputs": [],
   "source": [
    "import numpy as np\n",
    "import matplotlib.pyplot as plt"
   ]
  },
  {
   "cell_type": "markdown",
   "metadata": {},
   "source": [
    "## Objectives\n",
    "\n",
    "**Objectives:**\n",
    "* Implement the PID control equations.\n",
    "* Tune the PID controller gains to achieve a suitable response.\n",
    "* Gain an intuitive understanding of how changing control gains affects the system response.\n",
    "\n",
    "## PID Control\n",
    "\n",
    "A proportional–integral–derivative controller (PID controller) is a type of feedback or closed-loop controller that is widely used in industrial control systems. The PID controller calculates an error $e(t)$ at each time step $h$. This error value is the difference between a reference or target $r(t)$ and an actual output or controlled variable $y(t)$. The controller works by reducing the error by adjusting the control variable $u(t)$, based on the weighted sum of the proportional, integral and derivative terms with their respective gains. \n",
    "\n",
    "An everday example of feedback control is cruise control, where the driver sets a target speed and the controller has to work to reduce the error between its current  and target speed. The cruise controller may have other requirements such as having minimal delay and not overshooting the target speed. "
   ]
  },
  {
   "cell_type": "markdown",
   "metadata": {},
   "source": [
    "<img src=\"tp5/PID.svg\" style=\"width: 700px;\">"
   ]
  },
  {
   "cell_type": "markdown",
   "metadata": {},
   "source": [
    "<br/>\n",
    "<img src=\"tp5/continuous_PID.png\" style=\"width: 300px;\">"
   ]
  },
  {
   "cell_type": "markdown",
   "metadata": {},
   "source": [
    "## PID Gain Tuning\n",
    "There are a number of methods for tuning a PID controller to get a desired response. Below is a summary of how increasing each of the control gains affects the response:\n",
    "\n",
    "\n",
    "| Parameter | Rise time    | Overshoot  | Settling time | Steady-state error | Stability |\n",
    "| :---------|:------------:| ----------:|:-------------:|:------------------:| :--------:|\n",
    "| $K_p$     | Decrease     | Increase   | Small change  | Decrease           | Degrade   |\n",
    "| $K_i$     | Decrease     | Increase   | Increase      | Eliminate          | Degrade   |\n",
    "| $K_d$     | Minor change | Decrease   | Decrease      | No effect          | Improve if $K_d$ small |"
   ]
  },
  {
   "cell_type": "markdown",
   "metadata": {},
   "source": [
    "In this tutorial, we will be implementing and tuning the PID controller for a one DOF system. This could for example represent a particle moving vertically in one dimension under an acceleration.\n",
    "\n",
    "### Tasks:\n",
    "* Implement the PID control loop equations\n",
    "* Tune the gains of the PID loop"
   ]
  },
  {
   "cell_type": "markdown",
   "metadata": {},
   "source": [
    "### Implement PID Controller"
   ]
  },
  {
   "cell_type": "code",
   "execution_count": 120,
   "metadata": {
    "scrolled": true
   },
   "outputs": [
    {
     "data": {
      "image/png": "[encoded data removed]",
      "text/plain": [
       "<Figure size 640x480 with 1 Axes>"
      ]
     },
     "metadata": {},
     "output_type": "display_data"
    }
   ],
   "source": [
    "class OneDofSystem(object):\n",
    "    def __init__(self, x, v, biasAcceleration=1):\n",
    "        self.x = x\n",
    "        self.v = v\n",
    "        self.biasAcceleration = biasAcceleration\n",
    "        \n",
    "    def step(self, u, h):\n",
    "        # Returns the updated position x and velocity v after one time step h\n",
    "        a = self.biasAcceleration + u\n",
    "        self.x = self.x + h*self.v + 1./2.*a*h**2 # calculate new position\n",
    "        self.v = self.v + h*a # calculate new velocity\n",
    "        \n",
    "    def sense(self):\n",
    "        # Returns the current position\n",
    "        return self.x\n",
    "    \n",
    "def response(system, k_p, k_d, k_i):\n",
    "    sys = system(0, 0)\n",
    "        \n",
    "    x_target = 1 # Set target position\n",
    "    delta_x_target = 1 # Updating the target \n",
    "    \n",
    "    h = 0.001 # dt\n",
    "    x_old = sys.sense() # initial position of the system\n",
    "    \n",
    "    e_old = 0 # initial error\n",
    "    e_i = 0 # initial intergral error\n",
    "    \n",
    "    x_list = []\n",
    "    target_list = []\n",
    " \n",
    "    for c in range(1000):       \n",
    "        # obtain current position of system         \n",
    "        x = sys.sense()\n",
    "        \n",
    "        # half-way update the target         \n",
    "        if c==500:\n",
    "            x_target += delta_x_target\n",
    "        \n",
    "        # Implement the discretized PID loop equations \n",
    "        ### START CODE HERE ### (~ 4 lines of code)\n",
    "        e = x_target - x   # fix me! 1. Calculate the error in position \n",
    "        e_d = (e - e_old) / h  # fix me! 2. Calculate derivative of the error\n",
    "        e_i += e * h # fix me! 3. Calculate integral of the error  \n",
    "        u = k_p*e + k_d*e_d + k_i*e_i # fix me! 4. Calculate the output of the PID\n",
    "        ### END CODE HERE ###\n",
    "        \n",
    "        # apply control effort, u (acceleration)\n",
    "        sys.step(u, h)\n",
    "        \n",
    "        x_old = x # store previous position \n",
    "        e_old = e # store previous error \n",
    "        \n",
    "        # store position, target and time for plotting reasons         \n",
    "        x_list.append(x)\n",
    "        target_list.append(x_target)\n",
    "        time = np.arange(1000)*h\n",
    "    return time, np.array(x_list), np.array(target_list)\n",
    "\n",
    "# Tune the PID equations\n",
    "### START CODE HERE ### (3 lines of code)    \n",
    "k_p = 1000 # fix me! \n",
    "k_d =  100# fix me! \n",
    "k_i = 0 # fix me! \n",
    "### END CODE HERE ###\n",
    "\n",
    "systemFun = lambda x, v : OneDofSystem(x,v, 100)\n",
    "time, position, target = response(systemFun, k_p, k_d, k_i)       \n",
    "    \n",
    "plt.plot(time, position)\n",
    "plt.plot(time,np.ones(time.shape)*target)\n",
    "plt.xlabel(\"time (in s)\")\n",
    "plt.ylabel(\"position (in m)\")\n",
    "\n",
    "plt.show()   "
   ]
  },
  {
   "cell_type": "markdown",
   "metadata": {},
   "source": [
    "## Questions\n",
    "\n",
    "1. What happens with only a proportional gain and why? (P)\n",
    "2. What is the effect of adding $K_d$ gain? (PD)\n",
    "3. How do you create a faster response? (PD)\n",
    "4. What happens when the $K_d$ is too high? (PD)\n",
    "5. What is the effect of the integral gain $K_i$? (PID)\n",
    "6. When would you use an integral gain? (PID)\n",
    "7. What are two downsides of using the integral gain? (PID)"
   ]
  },
  {
   "cell_type": "markdown",
   "metadata": {},
   "source": [
    "***\n"
   ]
  },
  {
   "cell_type": "markdown",
   "metadata": {},
   "source": [
    "## Answers\n",
    "1. Adding $K_p$ will make the control oscillate around the target, but will give it no stability. - Has no damping.\n",
    "2. It makes the control stabilise to the position - it adds damping.\n",
    "3. Increase $K_p$ and $K_d$.\n",
    "4. It overshoots at the start, before damping around the location.  - That is an artifact of the discretisation, in ideal system it would cause reaching the state slowly\n",
    "5. ?? - Accumulates error over time and eliminates steady-state error - eventually reach steady state error\n",
    "6. ?? - Use $K_i$ when system has steady state error such as gravity or friction.\n",
    "7. One is that a high integral gain dereases stability. - The second is integral windup: the term accumulates large values causing overshoot and oscillations."
   ]
  },
  {
   "cell_type": "markdown",
   "metadata": {},
   "source": [
    "## References\n",
    "https://en.wikipedia.org/wiki/PID_controller#Mathematical_form\n",
    "\n",
    "Franklin, G.F., Powell, J.D., Emami-Naeini, A. and Powell, J.D., 1994. Feedback control of dynamic systems (Vol. 3). Reading, MA: Addison-Wesley.\n",
    "\n",
    "code reference authors : Wouter Wolfslag, Nikhil Advani and Kostas Alexis\n",
    "\n",
    "#### Authors : Jack Wilkinson and Theodoros Stouraitis"
   ]
  }
 ],
 "metadata": {
  "kernelspec": {
   "display_name": "aro-tut",
   "language": "python",
   "name": "python3"
  },
  "language_info": {
   "codemirror_mode": {
    "name": "ipython",
    "version": 3
   },
   "file_extension": ".py",
   "mimetype": "text/x-python",
   "name": "python",
   "nbconvert_exporter": "python",
   "pygments_lexer": "ipython3",
   "version": "3.9.23"
  }
 },
 "nbformat": 4,
 "nbformat_minor": 4
}
